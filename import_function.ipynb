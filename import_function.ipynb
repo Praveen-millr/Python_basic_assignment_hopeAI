{
 "cells": [
  {
   "cell_type": "code",
   "execution_count": 1,
   "id": "1376b400-1ead-4e28-acf5-0138434492aa",
   "metadata": {},
   "outputs": [
    {
     "name": "stdin",
     "output_type": "stream",
     "text": [
      "Enter tamil mark: 30\n",
      "Enter socialScience mark: 40\n",
      "Enter english mark: 50\n",
      "Enter matchs mark: 40\n",
      "Enter science mark: 30\n"
     ]
    },
    {
     "name": "stdout",
     "output_type": "stream",
     "text": [
      "Tamil: 30\n",
      "socialScience: 40\n",
      "English: 50\n",
      "matchs: 40\n",
      "science: 30\n",
      "Total: 190\n",
      "percentage: 38.0\n"
     ]
    }
   ],
   "source": [
    "from multipleFunctions import formula\n",
    "formula.percentages()"
   ]
  },
  {
   "cell_type": "code",
   "execution_count": 3,
   "id": "17b95f3a-c041-4a7c-8c5e-616bc38f5f71",
   "metadata": {},
   "outputs": [
    {
     "name": "stdout",
     "output_type": "stream",
     "text": [
      "Subfields in AI are:\n",
      "Machine learning\n",
      "Nural network\n",
      "Computer vison\n",
      "Robotic\n",
      "Speech processing\n",
      "NLP\n"
     ]
    }
   ],
   "source": [
    "formula.Subfield()"
   ]
  },
  {
   "cell_type": "code",
   "execution_count": 5,
   "id": "4d191994-0ba8-49d5-a241-9b14fef09a1e",
   "metadata": {},
   "outputs": [
    {
     "name": "stdin",
     "output_type": "stream",
     "text": [
      "Enter the num: 2\n"
     ]
    },
    {
     "name": "stdout",
     "output_type": "stream",
     "text": [
      "The number is even\n"
     ]
    }
   ],
   "source": [
    "formula.Oddeven()"
   ]
  },
  {
   "cell_type": "code",
   "execution_count": 7,
   "id": "635639a4-c686-433d-9276-0a8c15582c27",
   "metadata": {},
   "outputs": [
    {
     "name": "stdin",
     "output_type": "stream",
     "text": [
      "Enter Gender female\n",
      "Enter the Age: 19\n"
     ]
    },
    {
     "name": "stdout",
     "output_type": "stream",
     "text": [
      "Elegible\n"
     ]
    }
   ],
   "source": [
    "formula.MarrageElegibility()"
   ]
  },
  {
   "cell_type": "code",
   "execution_count": 9,
   "id": "29210463-2915-472d-a0de-132160551459",
   "metadata": {},
   "outputs": [
    {
     "name": "stdin",
     "output_type": "stream",
     "text": [
      "Enter triangel Height: 2\n",
      "Enter triangel Breadth: 3\n"
     ]
    },
    {
     "name": "stdout",
     "output_type": "stream",
     "text": [
      "Area of triangle: 3.0\n"
     ]
    },
    {
     "name": "stdin",
     "output_type": "stream",
     "text": [
      "Enter perimeter Height1: 1\n",
      "Enter perimeter Height2: 5\n",
      "Enter perimeter Breadth: 4\n"
     ]
    },
    {
     "name": "stdout",
     "output_type": "stream",
     "text": [
      "Perimeter of triangle: 10\n"
     ]
    }
   ],
   "source": [
    "formula.triangle()"
   ]
  },
  {
   "cell_type": "code",
   "execution_count": null,
   "id": "f403b6af-44f2-4e30-8e58-d7f0ead2b2ee",
   "metadata": {},
   "outputs": [],
   "source": []
  }
 ],
 "metadata": {
  "kernelspec": {
   "display_name": "Python 3 (ipykernel)",
   "language": "python",
   "name": "python3"
  },
  "language_info": {
   "codemirror_mode": {
    "name": "ipython",
    "version": 3
   },
   "file_extension": ".py",
   "mimetype": "text/x-python",
   "name": "python",
   "nbconvert_exporter": "python",
   "pygments_lexer": "ipython3",
   "version": "3.12.7"
  }
 },
 "nbformat": 4,
 "nbformat_minor": 5
}
