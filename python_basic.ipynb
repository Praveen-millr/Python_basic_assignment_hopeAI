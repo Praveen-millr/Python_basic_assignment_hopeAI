{
 "cells": [
  {
   "cell_type": "markdown",
   "id": "6f835d3d-f368-43b9-9611-00c4b5578db1",
   "metadata": {},
   "source": [
    "Control Structure"
   ]
  },
  {
   "cell_type": "code",
   "execution_count": 3,
   "id": "1246e4cc-2a00-4a2e-872d-b5faaee94748",
   "metadata": {},
   "outputs": [
    {
     "name": "stdout",
     "output_type": "stream",
     "text": [
      "Welcome to the Assignment-1\n"
     ]
    }
   ],
   "source": [
    "print(\"Welcome to the Assignment-1\")"
   ]
  },
  {
   "cell_type": "code",
   "execution_count": 11,
   "id": "3544bc53-bf1f-4125-9246-e80a118ae62d",
   "metadata": {},
   "outputs": [
    {
     "name": "stdout",
     "output_type": "stream",
     "text": [
      "Num1= 10\n",
      "Num2= 30\n",
      "Add=  40\n"
     ]
    }
   ],
   "source": [
    "Num1 = 10\n",
    "Num2 = 30\n",
    "Add = Num1+Num2\n",
    "print(\"Num1=\",Num1)\n",
    "print(\"Num2=\",Num2)\n",
    "print(\"Add= \",Add)"
   ]
  },
  {
   "cell_type": "markdown",
   "id": "3b3969ed-fefc-48e1-a946-f7fe986f5033",
   "metadata": {},
   "source": [
    "Underweight: BMI is less than 18.5\n",
    "\n",
    "Normal weight: BMI is between 18.5 and 24.9\n",
    "\n",
    "Overweight: BMI is between 25 and 29.9\n",
    "\n",
    "Obese: BMI is 30 or higher\n",
    "\n",
    "Severe obesity: BMI is 40 or higher"
   ]
  },
  {
   "cell_type": "code",
   "execution_count": 1,
   "id": "62f483fa-30f2-4b3a-9819-4729ee790e22",
   "metadata": {},
   "outputs": [
    {
     "name": "stdin",
     "output_type": "stream",
     "text": [
      "Enter the BMI Index 36\n"
     ]
    },
    {
     "name": "stdout",
     "output_type": "stream",
     "text": [
      "Obese\n"
     ]
    }
   ],
   "source": [
    "index=float(input(\"Enter the BMI Index\"))\n",
    "if index<18.5 :\n",
    "    print(\"Under Weight\")\n",
    "elif 18.5<=index<=24.9 :\n",
    "    print(\"Normal Weight\")\n",
    "elif 25<=index<=29.9 :\n",
    "    print(\"Over Weight\")\n",
    "elif 30<=index<=40 :\n",
    "    print(\"Obese\")\n",
    "else:\n",
    "    print(\"Serve obesity\")"
   ]
  },
  {
   "cell_type": "markdown",
   "id": "a56d7222-8a35-419f-9ada-e4e42b57ea12",
   "metadata": {},
   "source": [
    "Functions\n"
   ]
  },
  {
   "cell_type": "code",
   "execution_count": 94,
   "id": "b3b35ff2-e0fd-47d0-8368-373bdd6c3213",
   "metadata": {},
   "outputs": [],
   "source": [
    "def Subfield():\n",
    "    print(\"Subfields in AI are:\")\n",
    "    fields = ['Machine learning','Nural network','Computer vison','Robotic','Speech processing','NLP']\n",
    "    for text in fields:\n",
    "        print(text)"
   ]
  },
  {
   "cell_type": "code",
   "execution_count": 96,
   "id": "c3eded2a-5053-4f96-aa41-17f84bcbb66d",
   "metadata": {},
   "outputs": [
    {
     "name": "stdout",
     "output_type": "stream",
     "text": [
      "Subfields in AI are:\n",
      "Machine learning\n",
      "Nural network\n",
      "Computer vison\n",
      "Robotic\n",
      "Speech processing\n",
      "NLP\n"
     ]
    }
   ],
   "source": [
    "Subfield()"
   ]
  },
  {
   "cell_type": "code",
   "execution_count": 68,
   "id": "9077ef36-05b0-4f9d-b308-4f8dfdc3f8a6",
   "metadata": {},
   "outputs": [],
   "source": [
    "def Oddeven():\n",
    "    num=int(input(\"Enter the num:\"))\n",
    "    if num%2==0:\n",
    "        print(\"The number is even\")\n",
    "    else:\n",
    "        print(\"The number is odd\")\n",
    "\n"
   ]
  },
  {
   "cell_type": "code",
   "execution_count": 70,
   "id": "5b88b703-b8f0-4b0a-88a8-49a194568687",
   "metadata": {},
   "outputs": [
    {
     "name": "stdin",
     "output_type": "stream",
     "text": [
      "Enter the num: 4\n"
     ]
    },
    {
     "name": "stdout",
     "output_type": "stream",
     "text": [
      "The number is even\n"
     ]
    }
   ],
   "source": [
    "Oddeven()"
   ]
  },
  {
   "cell_type": "code",
   "execution_count": 23,
   "id": "74f18038-a883-4aef-a534-9b42d231b812",
   "metadata": {},
   "outputs": [],
   "source": [
    "def MarrageElegibility():\n",
    "    Gender=input(\"Enter Gender\")\n",
    "    Age=int(input(\"Enter the Age:\"))\n",
    "    if Gender == 'male' and Age >=21:\n",
    "        print(\"Elegible\")\n",
    "    elif Gender == 'female' and Age >=18:\n",
    "        print(\"Elegible\")\n",
    "    else:\n",
    "        print(\"Not elegible\")    "
   ]
  },
  {
   "cell_type": "code",
   "execution_count": 31,
   "id": "dd1fe7de-96ba-40e9-be5e-76a427cefd60",
   "metadata": {},
   "outputs": [
    {
     "name": "stdin",
     "output_type": "stream",
     "text": [
      "Enter Gender female\n",
      "Enter the Age: 17\n"
     ]
    },
    {
     "name": "stdout",
     "output_type": "stream",
     "text": [
      "Not elegible\n"
     ]
    }
   ],
   "source": [
    "MarrageElegibility()"
   ]
  },
  {
   "cell_type": "code",
   "execution_count": 17,
   "id": "c5225311-2bb3-452a-adab-89dc1b9626c7",
   "metadata": {},
   "outputs": [],
   "source": [
    "def percentages():\n",
    "    tamil=int(input(\"Enter tamil mark:\"))\n",
    "    socialScience=int(input(\"Enter socialScience mark:\"))\n",
    "    english=int(input(\"Enter english mark:\"))\n",
    "    matchs=int(input(\"Enter matchs mark:\"))\n",
    "    science=int(input(\"Enter science mark:\"))\n",
    "    Total = tamil+socialScience+english+matchs+science\n",
    "    percentage = 100/500*Total\n",
    "    print(\"Tamil:\",tamil)\n",
    "    print(\"socialScience:\",socialScience)\n",
    "    print(\"English:\",english)\n",
    "    print(\"matchs:\",matchs)\n",
    "    print(\"science:\",science)\n",
    "    print(\"Total:\",Total)\n",
    "    print(\"percentage:\",percentage)"
   ]
  },
  {
   "cell_type": "code",
   "execution_count": 19,
   "id": "4eaf7154-c5a2-426a-94c9-2e71c4a4728e",
   "metadata": {},
   "outputs": [
    {
     "name": "stdin",
     "output_type": "stream",
     "text": [
      "Enter tamil mark: 40\n",
      "Enter socialScience mark: 50\n",
      "Enter english mark: 40\n",
      "Enter matchs mark: 30\n",
      "Enter science mark: 20\n"
     ]
    },
    {
     "name": "stdout",
     "output_type": "stream",
     "text": [
      "Tamil: 40\n",
      "socialScience: 50\n",
      "English: 40\n",
      "matchs: 30\n",
      "science: 20\n",
      "Total: 180\n",
      "percentage: 36.0\n"
     ]
    }
   ],
   "source": [
    "percentages()"
   ]
  },
  {
   "cell_type": "code",
   "execution_count": 128,
   "id": "953e160c-bd8e-46e6-b18f-6822017949bf",
   "metadata": {},
   "outputs": [],
   "source": [
    "def triangle():\n",
    "    triangleHeight = int(input(\"Enter triangel Height:\"))\n",
    "    triangleBreadth = int(input(\"Enter triangel Breadth:\"))\n",
    "    print(\"Area of triangle:\",(triangleHeight*triangleBreadth)/2)\n",
    "    perimeterHeight1 = int(input(\"Enter perimeter Height1:\"))\n",
    "    perimeterHeight2 = int(input(\"Enter perimeter Height2:\"))\n",
    "    perimeterBreadth = int(input(\"Enter perimeter Breadth:\"))\n",
    "    print(\"Perimeter of triangle:\",(perimeterHeight1+perimeterHeight2+perimeterBreadth))"
   ]
  },
  {
   "cell_type": "code",
   "execution_count": 130,
   "id": "944e8f7c-c316-4130-ab0c-8b2497318874",
   "metadata": {},
   "outputs": [
    {
     "name": "stdin",
     "output_type": "stream",
     "text": [
      "Enter triangel Height: 2\n",
      "Enter triangel Breadth: 3\n"
     ]
    },
    {
     "name": "stdout",
     "output_type": "stream",
     "text": [
      "Area of triangle: 3.0\n"
     ]
    },
    {
     "name": "stdin",
     "output_type": "stream",
     "text": [
      "Enter perimeter Height1: 2\n",
      "Enter perimeter Height2: 1\n",
      "Enter perimeter Breadth: 2\n"
     ]
    },
    {
     "name": "stdout",
     "output_type": "stream",
     "text": [
      "Perimeter of triangle: 5\n"
     ]
    }
   ],
   "source": [
    "triangle()"
   ]
  },
  {
   "cell_type": "markdown",
   "id": "60de199d-a2cd-4868-85aa-5f55ff61c265",
   "metadata": {},
   "source": [
    "Class\n"
   ]
  },
  {
   "cell_type": "code",
   "execution_count": 9,
   "id": "a2a5fe76-eecf-497f-a119-251c881e61b7",
   "metadata": {},
   "outputs": [],
   "source": [
    "class formula():\n",
    "    def Subfield():\n",
    "        print(\"Subfields in AI are:\")\n",
    "        fields = ['Machine learning','Nural network','Computer vison','Robotic','Speech processing','NLP']\n",
    "        for text in fields:\n",
    "            print(text)\n",
    "    \n",
    "    def Oddeven():\n",
    "        num=int(input(\"Enter the num:\"))\n",
    "        if num%2==0:\n",
    "            print(\"The number is even\")\n",
    "        else:\n",
    "            print(\"The number is odd\")\n",
    "\n",
    "    def MarrageElegibility():\n",
    "        Gender=input(\"Enter Gender\")\n",
    "        Age=int(input(\"Enter the Age:\"))\n",
    "        if Gender == 'male':\n",
    "            if Age>=21:\n",
    "                print(\"Elegible\")\n",
    "            else:\n",
    "                print(\"Not elegible\")\n",
    "        \n",
    "        elif Age>=18:\n",
    "            print(\"Elegible\")\n",
    "        else:\n",
    "            print(\"Not eligible\")   \n",
    "\n",
    "    def percentages():\n",
    "        tamil=int(input(\"Enter tamil mark:\"))\n",
    "        socialScience=int(input(\"Enter socialScience mark:\"))\n",
    "        english=int(input(\"Enter english mark:\"))\n",
    "        matchs=int(input(\"Enter matchs mark:\"))\n",
    "        science=int(input(\"Enter science mark:\"))\n",
    "        Total = tamil+socialScience+english+matchs+science\n",
    "        percentage = 100/500*Total\n",
    "        print(\"Tamil:\",tamil)\n",
    "        print(\"socialScience:\",socialScience)\n",
    "        print(\"English:\",english)\n",
    "        print(\"matchs:\",matchs)\n",
    "        print(\"science:\",science)\n",
    "        print(\"Total:\",Total)\n",
    "        print(\"percentage:\",percentage)\n",
    "\n",
    "    def triangle():\n",
    "        triangleHeight = int(input(\"Enter triangel Height:\"))\n",
    "        triangleBreadth = int(input(\"Enter triangel Breadth:\"))\n",
    "        print(\"Area of triangle:\",(triangleHeight*triangleBreadth)/2)\n",
    "        perimeterHeight1 = int(input(\"Enter perimeter Height1:\"))\n",
    "        perimeterHeight2 = int(input(\"Enter perimeter Height2:\"))\n",
    "        perimeterBreadth = int(input(\"Enter perimeter Breadth:\"))\n",
    "        print(\"Perimeter of triangle:\",(perimeterHeight1+perimeterHeight2+perimeterBreadth))\n",
    "\n",
    "    "
   ]
  },
  {
   "cell_type": "code",
   "execution_count": 141,
   "id": "6a9a6ebf-2fb0-4b54-9d85-a8f2d2615c02",
   "metadata": {},
   "outputs": [
    {
     "name": "stdout",
     "output_type": "stream",
     "text": [
      "Subfields in AI are:\n",
      "Machine learning\n",
      "Nural network\n",
      "Computer vison\n",
      "Robotic\n",
      "Speech processing\n",
      "NLP\n"
     ]
    }
   ],
   "source": [
    "formula.Subfield()"
   ]
  },
  {
   "cell_type": "code",
   "execution_count": 11,
   "id": "79e548f2-f8a6-4698-bf12-35341dd26c50",
   "metadata": {},
   "outputs": [
    {
     "name": "stdin",
     "output_type": "stream",
     "text": [
      "Enter tamil mark: 30\n",
      "Enter socialScience mark: 30\n",
      "Enter english mark: 40\n",
      "Enter matchs mark: 40\n",
      "Enter science mark: 30\n"
     ]
    },
    {
     "name": "stdout",
     "output_type": "stream",
     "text": [
      "Tamil: 30\n",
      "socialScience: 30\n",
      "English: 40\n",
      "matchs: 40\n",
      "science: 30\n",
      "Total: 170\n",
      "percentage: 34.0\n"
     ]
    }
   ],
   "source": [
    "formula.percentages()"
   ]
  },
  {
   "cell_type": "code",
   "execution_count": 149,
   "id": "6e1218cb-23b0-4346-9a19-2738f2b08581",
   "metadata": {},
   "outputs": [
    {
     "name": "stdin",
     "output_type": "stream",
     "text": [
      "Enter the num: 3\n"
     ]
    },
    {
     "name": "stdout",
     "output_type": "stream",
     "text": [
      "The number is odd\n"
     ]
    }
   ],
   "source": [
    "formula.Oddeven()"
   ]
  },
  {
   "cell_type": "code",
   "execution_count": 151,
   "id": "ec932c92-3c7a-45c3-b63e-a6c82db79e43",
   "metadata": {},
   "outputs": [
    {
     "name": "stdin",
     "output_type": "stream",
     "text": [
      "Enter Gender male\n",
      "Enter the Age: 21\n"
     ]
    },
    {
     "name": "stdout",
     "output_type": "stream",
     "text": [
      "Elegible\n"
     ]
    }
   ],
   "source": [
    "formula.MarrageElegibility()"
   ]
  },
  {
   "cell_type": "code",
   "execution_count": 153,
   "id": "e9326797-ed83-440a-9e0c-48d67126bd8d",
   "metadata": {},
   "outputs": [
    {
     "name": "stdin",
     "output_type": "stream",
     "text": [
      "Enter triangel Height: 2\n",
      "Enter triangel Breadth: 3\n"
     ]
    },
    {
     "name": "stdout",
     "output_type": "stream",
     "text": [
      "Area of triangle: 3.0\n"
     ]
    },
    {
     "name": "stdin",
     "output_type": "stream",
     "text": [
      "Enter perimeter Height1: 2\n",
      "Enter perimeter Height2: 1\n",
      "Enter perimeter Breadth: 2\n"
     ]
    },
    {
     "name": "stdout",
     "output_type": "stream",
     "text": [
      "Perimeter of triangle: 5\n"
     ]
    }
   ],
   "source": [
    "formula.triangle()"
   ]
  }
 ],
 "metadata": {
  "kernelspec": {
   "display_name": "Python 3 (ipykernel)",
   "language": "python",
   "name": "python3"
  },
  "language_info": {
   "codemirror_mode": {
    "name": "ipython",
    "version": 3
   },
   "file_extension": ".py",
   "mimetype": "text/x-python",
   "name": "python",
   "nbconvert_exporter": "python",
   "pygments_lexer": "ipython3",
   "version": "3.12.7"
  }
 },
 "nbformat": 4,
 "nbformat_minor": 5
}
